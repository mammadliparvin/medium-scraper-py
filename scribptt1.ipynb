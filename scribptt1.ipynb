{
  "nbformat": 4,
  "nbformat_minor": 0,
  "metadata": {
    "colab": {
      "provenance": []
    },
    "kernelspec": {
      "name": "python3",
      "display_name": "Python 3"
    },
    "language_info": {
      "name": "python"
    }
  },
  "cells": [
    {
      "cell_type": "code",
      "source": [
        "import os\n",
        "import requests\n",
        "import re\n",
        "from bs4 import BeautifulSoup\n",
        "from google.colab import files\n"
      ],
      "metadata": {
        "id": "i2YSD2BS2i_D"
      },
      "execution_count": 4,
      "outputs": []
    },
    {
      "cell_type": "code",
      "source": [
        "def get_page():\n",
        "    url = \"https://medium.com/@subashgandyer/papa-what-is-a-neural-network-c5e5cc427c7\"  # Set the URL directly\n",
        "    res = requests.get(url)\n",
        "    res.raise_for_status()\n",
        "    soup = BeautifulSoup(res.text, 'html.parser')\n",
        "    return soup"
      ],
      "metadata": {
        "id": "vMjzUryJ2kOD"
      },
      "execution_count": 5,
      "outputs": []
    },
    {
      "cell_type": "code",
      "source": [
        "def clean(text):\n",
        "    rep = {\"<br>\": \"\\n\", \"<br/>\": \"\\n\", \"<li>\":  \"\\n\"}\n",
        "    rep = dict((re.escape(k), v) for k, v in rep.items())\n",
        "    pattern = re.compile(\"|\".join(rep.keys()))\n",
        "    text = pattern.sub(lambda m: rep[re.escape(m.group(0))], text)\n",
        "    text = re.sub('\\<(.*?)\\>', '', text)\n",
        "    return text"
      ],
      "metadata": {
        "id": "axFclx862njU"
      },
      "execution_count": 6,
      "outputs": []
    },
    {
      "cell_type": "code",
      "source": [
        "def collect_text(soup, url):\n",
        "    text = f'url: {url}\\n\\n'\n",
        "    para_text = soup.find_all('p')\n",
        "    for para in para_text:\n",
        "        text += f\"{para.text}\\n\\n\"\n",
        "    return text"
      ],
      "metadata": {
        "id": "yG510y1y2pzM"
      },
      "execution_count": 7,
      "outputs": []
    },
    {
      "cell_type": "code",
      "source": [
        "def save_file(text, url):\n",
        "    if not os.path.exists('./scraped_articles'):\n",
        "        os.mkdir('./scraped_articles')\n",
        "        name = url.split(\"/\")[-1]\n",
        "    fname = f'scraped_articles/{name}.txt'\n",
        "    with open(fname, 'w', encoding='utf-8') as f:\n",
        "        f.write(text)\n",
        "\n",
        "    print(f'File saved in directory {fname}')\n",
        "    files.download(fname)\n"
      ],
      "metadata": {
        "id": "BkoWpqjw2yTy"
      },
      "execution_count": 10,
      "outputs": []
    },
    {
      "cell_type": "code",
      "source": [
        "if __name__ == '__main__':\n",
        "    url = \"https://medium.com/@subashgandyer/papa-what-is-a-neural-network-c5e5cc427c7\"\n",
        "    soup = get_page()\n",
        "    if soup:\n",
        "        text = collect_text(soup, url)\n",
        "        save_file(text, url)"
      ],
      "metadata": {
        "colab": {
          "base_uri": "https://localhost:8080/",
          "height": 35
        },
        "id": "qXGazaLK22b4",
        "outputId": "2a91b2d2-0977-4618-8bf7-77061355fd97"
      },
      "execution_count": 11,
      "outputs": [
        {
          "output_type": "stream",
          "name": "stdout",
          "text": [
            "File saved in directory scraped_articles/papa-what-is-a-neural-network-c5e5cc427c7.txt\n"
          ]
        },
        {
          "output_type": "display_data",
          "data": {
            "text/plain": [
              "<IPython.core.display.Javascript object>"
            ],
            "application/javascript": [
              "\n",
              "    async function download(id, filename, size) {\n",
              "      if (!google.colab.kernel.accessAllowed) {\n",
              "        return;\n",
              "      }\n",
              "      const div = document.createElement('div');\n",
              "      const label = document.createElement('label');\n",
              "      label.textContent = `Downloading \"${filename}\": `;\n",
              "      div.appendChild(label);\n",
              "      const progress = document.createElement('progress');\n",
              "      progress.max = size;\n",
              "      div.appendChild(progress);\n",
              "      document.body.appendChild(div);\n",
              "\n",
              "      const buffers = [];\n",
              "      let downloaded = 0;\n",
              "\n",
              "      const channel = await google.colab.kernel.comms.open(id);\n",
              "      // Send a message to notify the kernel that we're ready.\n",
              "      channel.send({})\n",
              "\n",
              "      for await (const message of channel.messages) {\n",
              "        // Send a message to notify the kernel that we're ready.\n",
              "        channel.send({})\n",
              "        if (message.buffers) {\n",
              "          for (const buffer of message.buffers) {\n",
              "            buffers.push(buffer);\n",
              "            downloaded += buffer.byteLength;\n",
              "            progress.value = downloaded;\n",
              "          }\n",
              "        }\n",
              "      }\n",
              "      const blob = new Blob(buffers, {type: 'application/binary'});\n",
              "      const a = document.createElement('a');\n",
              "      a.href = window.URL.createObjectURL(blob);\n",
              "      a.download = filename;\n",
              "      div.appendChild(a);\n",
              "      a.click();\n",
              "      div.remove();\n",
              "    }\n",
              "  "
            ]
          },
          "metadata": {}
        },
        {
          "output_type": "display_data",
          "data": {
            "text/plain": [
              "<IPython.core.display.Javascript object>"
            ],
            "application/javascript": [
              "download(\"download_4adc6594-5b3f-4ac9-b006-35512f7258dd\", \"papa-what-is-a-neural-network-c5e5cc427c7.txt\", 13075)"
            ]
          },
          "metadata": {}
        }
      ]
    }
  ]
}